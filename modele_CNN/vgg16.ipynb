{
 "cells": [
  {
   "cell_type": "code",
   "execution_count": 2,
   "metadata": {},
   "outputs": [],
   "source": [
    "import tensorflow as tf\n",
    "import numpy as np\n",
    "from tensorflow import keras\n",
    "from tensorflow.keras.models import Sequential\n",
    "from tensorflow.keras.layers import Activation, Dense, BatchNormalization, Conv2D,MaxPool2D,Flatten\n",
    "from tensorflow.keras.optimizers import Adam\n",
    "from tensorflow.keras.metrics import categorical_crossentropy\n",
    "from tensorflow.keras.preprocessing.image import ImageDataGenerator\n",
    "from sklearn.metrics import confusion_matrix\n",
    "from tensorflow.python.client import device_lib\n",
    "import itertools\n",
    "import os \n",
    "import shutil\n",
    "import random\n",
    "import glob\n",
    "import matplotlib.pyplot as plt\n",
    "import warnings\n",
    "from tensorflow.python.client import device_lib\n",
    "import sklearn\n",
    "import wandb\n",
    "from wandb.keras import WandbCallback\n",
    "import glob\n",
    "import math\n",
    "from keras.callbacks import ReduceLROnPlateau, ModelCheckpoint, Callback, EarlyStopping"
   ]
  },
  {
   "cell_type": "code",
   "execution_count": 3,
   "metadata": {},
   "outputs": [
    {
     "name": "stdout",
     "output_type": "stream",
     "text": [
      "True\n",
      "[PhysicalDevice(name='/physical_device:GPU:0', device_type='GPU')]\n"
     ]
    }
   ],
   "source": [
    "print(tf.test.is_built_with_cuda())\n",
    "print(tf.config.list_physical_devices('GPU')) "
   ]
  },
  {
   "cell_type": "code",
   "execution_count": 4,
   "metadata": {},
   "outputs": [
    {
     "name": "stderr",
     "output_type": "stream",
     "text": [
      "Failed to detect the name of this notebook, you can set it manually with the WANDB_NOTEBOOK_NAME environment variable to enable code saving.\n",
      "\u001b[34m\u001b[1mwandb\u001b[0m: Currently logged in as: \u001b[33mratkac99\u001b[0m (use `wandb login --relogin` to force relogin)\n",
      "C:\\Users\\Kacper\\.conda\\envs\\test\\lib\\site-packages\\IPython\\html.py:12: ShimWarning: The `IPython.html` package has been deprecated since IPython 4.0. You should import from `notebook` instead. `IPython.html.widgets` has moved to `ipywidgets`.\n",
      "  warn(\"The `IPython.html` package has been deprecated since IPython 4.0. \"\n"
     ]
    },
    {
     "data": {
      "text/html": [
       "\n",
       "                    Syncing run <strong><a href=\"https://wandb.ai/ratkac99/vgg16/runs/1s9foivq\" target=\"_blank\">upbeat-sky-43</a></strong> to <a href=\"https://wandb.ai/ratkac99/vgg16\" target=\"_blank\">Weights & Biases</a> (<a href=\"https://docs.wandb.com/integrations/jupyter.html\" target=\"_blank\">docs</a>).<br/>\n",
       "\n",
       "                "
      ],
      "text/plain": [
       "<IPython.core.display.HTML object>"
      ]
     },
     "metadata": {},
     "output_type": "display_data"
    }
   ],
   "source": [
    "run = wandb.init(project='vgg16',\n",
    "                 config={  # and include hyperparameters and metadata\n",
    "                     \"learning_rate\": 0.0001,\n",
    "                     \"epochs\": 40,\n",
    "                     \"batch_size\": 2,\n",
    "                     \"loss_function\": \"categorical_crossentropy\",\n",
    "                     \"architecture\": \"CNN\",\n",
    "                     \"dataset\": \"malwareDB\"\n",
    "                 })\n",
    "config = wandb.config"
   ]
  },
  {
   "cell_type": "code",
   "execution_count": 5,
   "metadata": {},
   "outputs": [],
   "source": [
    "train_path = 'C:/Users/Kacper/Desktop/inzynier/code/data/legit_vs_malware/train'\n",
    "valid_path = 'C:/Users/Kacper/Desktop/inzynier/code/data/legit_vs_malware/valid'\n",
    "test_path = 'C:/Users/Kacper/Desktop/inzynier/code/data/legit_vs_malware/test'"
   ]
  },
  {
   "cell_type": "code",
   "execution_count": 6,
   "metadata": {},
   "outputs": [
    {
     "name": "stdout",
     "output_type": "stream",
     "text": [
      "Found 994 images belonging to 5 classes.\n",
      "Found 141 images belonging to 5 classes.\n",
      "Found 151 images belonging to 5 classes.\n"
     ]
    }
   ],
   "source": [
    "train_batches = ImageDataGenerator(preprocessing_function=tf.keras.applications.vgg16.preprocess_input).flow_from_directory(directory=train_path, target_size=(224,224),classes=['cerberus','hydra','alien','other','legit'],batch_size=2)\n",
    "valid_batches = ImageDataGenerator(preprocessing_function=tf.keras.applications.vgg16.preprocess_input).flow_from_directory(directory=valid_path, target_size=(224,224),classes=['cerberus','hydra','alien','other','legit'],batch_size=2)\n",
    "test_batches = ImageDataGenerator(preprocessing_function=tf.keras.applications.vgg16.preprocess_input).flow_from_directory(directory=test_path, target_size=(224,224),classes=['cerberus','hydra','alien','other','legit'],batch_size=2,shuffle=False)\n"
   ]
  },
  {
   "cell_type": "code",
   "execution_count": 7,
   "metadata": {},
   "outputs": [],
   "source": [
    "assert train_batches.n == 994\n",
    "assert valid_batches.n == 141\n",
    "assert test_batches.n == 151\n",
    "assert train_batches.num_classes == valid_batches.num_classes == test_batches.num_classes == 5"
   ]
  },
  {
   "cell_type": "code",
   "execution_count": 8,
   "metadata": {},
   "outputs": [],
   "source": [
    "cm_plot_labels = ['cerberus','hydra','alien','other','legit']"
   ]
  },
  {
   "cell_type": "code",
   "execution_count": 9,
   "metadata": {},
   "outputs": [],
   "source": [
    "def calculateF1(cm):\n",
    "    precision = 0\n",
    "    recall = 0\n",
    "    TP = cm[4][4]\n",
    "    FP = 0\n",
    "    FN = 0\n",
    "    TN = 0\n",
    "    for i in range(0,4):\n",
    "        FP = FP + cm[i][4]\n",
    "    for i in range (0,4):\n",
    "        FN = FN + cm[4][i]\n",
    "    for i in cm:\n",
    "        for j in i:\n",
    "            TN = TN + j\n",
    "    TN = TN - (FP + FN + TP)\n",
    "    precision = TP/(TP+FP)\n",
    "    recall = TP/(TP+FN)\n",
    "    return 2*((precision*recall)/(precision+recall))"
   ]
  },
  {
   "cell_type": "code",
   "execution_count": 10,
   "metadata": {},
   "outputs": [],
   "source": [
    "vgg16_model = tf.keras.applications.vgg16.VGG16()\n",
    "model = Sequential()\n",
    "for layer in vgg16_model.layers[:-1]:\n",
    "    model.add(layer)\n",
    "\n",
    "for layer in model.layers:\n",
    "    layer.trainable = False\n",
    "\n",
    "model.add(Dense(units=5, activation='softmax'))"
   ]
  },
  {
   "cell_type": "code",
   "execution_count": 11,
   "metadata": {},
   "outputs": [],
   "source": [
    "optimizer = tf.keras.optimizers.Adam(learning_rate=config.learning_rate)"
   ]
  },
  {
   "cell_type": "code",
   "execution_count": 12,
   "metadata": {},
   "outputs": [],
   "source": [
    "model.compile(optimizer=optimizer,loss=config.loss_function,metrics=\"accuracy\")"
   ]
  },
  {
   "cell_type": "code",
   "execution_count": 13,
   "metadata": {},
   "outputs": [
    {
     "name": "stdout",
     "output_type": "stream",
     "text": [
      "Epoch 1/40\n",
      "497/497 - 16s - loss: 0.7247 - accuracy: 0.7495 - val_loss: 0.6780 - val_accuracy: 0.7092 - 16s/epoch - 32ms/step\n",
      "Epoch 2/40\n",
      "497/497 - 13s - loss: 0.3912 - accuracy: 0.8602 - val_loss: 0.5788 - val_accuracy: 0.7730 - 13s/epoch - 25ms/step\n",
      "Epoch 3/40\n",
      "497/497 - 12s - loss: 0.3106 - accuracy: 0.8883 - val_loss: 0.5262 - val_accuracy: 0.8014 - 12s/epoch - 25ms/step\n",
      "Epoch 4/40\n",
      "497/497 - 13s - loss: 0.2579 - accuracy: 0.9155 - val_loss: 0.4318 - val_accuracy: 0.8014 - 13s/epoch - 25ms/step\n",
      "Epoch 5/40\n",
      "497/497 - 12s - loss: 0.2261 - accuracy: 0.9256 - val_loss: 0.4364 - val_accuracy: 0.8511 - 12s/epoch - 24ms/step\n",
      "Epoch 6/40\n",
      "497/497 - 13s - loss: 0.1965 - accuracy: 0.9336 - val_loss: 0.4275 - val_accuracy: 0.8582 - 13s/epoch - 25ms/step\n",
      "Epoch 7/40\n",
      "497/497 - 12s - loss: 0.1731 - accuracy: 0.9447 - val_loss: 0.4920 - val_accuracy: 0.8369 - 12s/epoch - 24ms/step\n",
      "Epoch 8/40\n",
      "497/497 - 12s - loss: 0.1612 - accuracy: 0.9467 - val_loss: 0.4345 - val_accuracy: 0.8298 - 12s/epoch - 24ms/step\n",
      "Epoch 9/40\n",
      "497/497 - 12s - loss: 0.1393 - accuracy: 0.9648 - val_loss: 0.4983 - val_accuracy: 0.8369 - 12s/epoch - 24ms/step\n",
      "Epoch 10/40\n",
      "497/497 - 12s - loss: 0.1281 - accuracy: 0.9648 - val_loss: 0.4376 - val_accuracy: 0.8156 - 12s/epoch - 24ms/step\n",
      "Epoch 11/40\n",
      "497/497 - 12s - loss: 0.1176 - accuracy: 0.9628 - val_loss: 0.4586 - val_accuracy: 0.8652 - 12s/epoch - 24ms/step\n",
      "Epoch 12/40\n",
      "497/497 - 12s - loss: 0.1076 - accuracy: 0.9648 - val_loss: 0.4483 - val_accuracy: 0.8298 - 12s/epoch - 24ms/step\n",
      "Epoch 13/40\n",
      "497/497 - 12s - loss: 0.0984 - accuracy: 0.9728 - val_loss: 0.4545 - val_accuracy: 0.8440 - 12s/epoch - 24ms/step\n",
      "Epoch 14/40\n",
      "497/497 - 12s - loss: 0.0912 - accuracy: 0.9759 - val_loss: 0.4489 - val_accuracy: 0.8227 - 12s/epoch - 24ms/step\n",
      "Epoch 15/40\n",
      "497/497 - 12s - loss: 0.0769 - accuracy: 0.9799 - val_loss: 0.4542 - val_accuracy: 0.8440 - 12s/epoch - 24ms/step\n",
      "Epoch 16/40\n",
      "497/497 - 12s - loss: 0.0735 - accuracy: 0.9859 - val_loss: 0.5019 - val_accuracy: 0.8298 - 12s/epoch - 24ms/step\n",
      "Epoch 17/40\n",
      "497/497 - 12s - loss: 0.0674 - accuracy: 0.9849 - val_loss: 0.4303 - val_accuracy: 0.8369 - 12s/epoch - 24ms/step\n",
      "Epoch 18/40\n",
      "497/497 - 12s - loss: 0.0607 - accuracy: 0.9879 - val_loss: 0.4400 - val_accuracy: 0.8369 - 12s/epoch - 23ms/step\n",
      "Epoch 19/40\n",
      "497/497 - 12s - loss: 0.0578 - accuracy: 0.9839 - val_loss: 0.4551 - val_accuracy: 0.8511 - 12s/epoch - 24ms/step\n",
      "Epoch 20/40\n",
      "497/497 - 12s - loss: 0.0489 - accuracy: 0.9899 - val_loss: 0.4821 - val_accuracy: 0.8298 - 12s/epoch - 24ms/step\n",
      "Epoch 21/40\n",
      "497/497 - 12s - loss: 0.0507 - accuracy: 0.9899 - val_loss: 0.4786 - val_accuracy: 0.8369 - 12s/epoch - 24ms/step\n",
      "Epoch 22/40\n",
      "497/497 - 12s - loss: 0.0409 - accuracy: 0.9960 - val_loss: 0.4694 - val_accuracy: 0.8298 - 12s/epoch - 24ms/step\n",
      "Epoch 23/40\n",
      "497/497 - 12s - loss: 0.0386 - accuracy: 0.9960 - val_loss: 0.5002 - val_accuracy: 0.8298 - 12s/epoch - 24ms/step\n",
      "Epoch 24/40\n",
      "497/497 - 12s - loss: 0.0377 - accuracy: 0.9950 - val_loss: 0.4863 - val_accuracy: 0.8369 - 12s/epoch - 24ms/step\n",
      "Epoch 25/40\n",
      "497/497 - 12s - loss: 0.0356 - accuracy: 0.9960 - val_loss: 0.4852 - val_accuracy: 0.8440 - 12s/epoch - 24ms/step\n",
      "Epoch 26/40\n",
      "497/497 - 12s - loss: 0.0291 - accuracy: 0.9990 - val_loss: 0.5044 - val_accuracy: 0.8298 - 12s/epoch - 24ms/step\n",
      "Epoch 27/40\n",
      "497/497 - 12s - loss: 0.0300 - accuracy: 0.9960 - val_loss: 0.5083 - val_accuracy: 0.8298 - 12s/epoch - 24ms/step\n",
      "Epoch 28/40\n",
      "497/497 - 12s - loss: 0.0255 - accuracy: 0.9970 - val_loss: 0.5286 - val_accuracy: 0.8227 - 12s/epoch - 24ms/step\n",
      "Epoch 29/40\n",
      "497/497 - 12s - loss: 0.0245 - accuracy: 0.9990 - val_loss: 0.5122 - val_accuracy: 0.8511 - 12s/epoch - 24ms/step\n",
      "Epoch 30/40\n",
      "497/497 - 12s - loss: 0.0220 - accuracy: 0.9980 - val_loss: 0.5953 - val_accuracy: 0.8369 - 12s/epoch - 24ms/step\n",
      "Epoch 31/40\n",
      "497/497 - 12s - loss: 0.0211 - accuracy: 0.9980 - val_loss: 0.5590 - val_accuracy: 0.8369 - 12s/epoch - 24ms/step\n",
      "Epoch 32/40\n",
      "497/497 - 12s - loss: 0.0179 - accuracy: 1.0000 - val_loss: 0.5283 - val_accuracy: 0.8369 - 12s/epoch - 24ms/step\n",
      "Epoch 33/40\n",
      "497/497 - 12s - loss: 0.0183 - accuracy: 0.9990 - val_loss: 0.5421 - val_accuracy: 0.8440 - 12s/epoch - 24ms/step\n",
      "Epoch 34/40\n",
      "497/497 - 12s - loss: 0.0149 - accuracy: 1.0000 - val_loss: 0.6050 - val_accuracy: 0.8298 - 12s/epoch - 24ms/step\n",
      "Epoch 35/40\n",
      "497/497 - 12s - loss: 0.0152 - accuracy: 1.0000 - val_loss: 0.5626 - val_accuracy: 0.8511 - 12s/epoch - 24ms/step\n",
      "Epoch 36/40\n",
      "497/497 - 12s - loss: 0.0126 - accuracy: 1.0000 - val_loss: 0.5927 - val_accuracy: 0.8511 - 12s/epoch - 24ms/step\n",
      "Epoch 37/40\n",
      "497/497 - 12s - loss: 0.0131 - accuracy: 1.0000 - val_loss: 0.5521 - val_accuracy: 0.8511 - 12s/epoch - 24ms/step\n",
      "Epoch 38/40\n",
      "497/497 - 12s - loss: 0.0120 - accuracy: 1.0000 - val_loss: 0.5634 - val_accuracy: 0.8511 - 12s/epoch - 23ms/step\n",
      "Epoch 39/40\n",
      "497/497 - 12s - loss: 0.0115 - accuracy: 1.0000 - val_loss: 0.5688 - val_accuracy: 0.8511 - 12s/epoch - 24ms/step\n",
      "Epoch 40/40\n",
      "497/497 - 12s - loss: 0.0106 - accuracy: 0.9990 - val_loss: 0.6005 - val_accuracy: 0.8511 - 12s/epoch - 24ms/step\n"
     ]
    },
    {
     "data": {
      "text/plain": [
       "<keras.callbacks.History at 0x20b13e5b3d0>"
      ]
     },
     "execution_count": 13,
     "metadata": {},
     "output_type": "execute_result"
    }
   ],
   "source": [
    "model.fit(x=train_batches,validation_data=valid_batches,epochs=config.epochs,batch_size=config.batch_size,verbose=2,callbacks=[WandbCallback(data_type=\"image\", validation_data=valid_batches, labels=cm_plot_labels)])"
   ]
  },
  {
   "cell_type": "code",
   "execution_count": 14,
   "metadata": {},
   "outputs": [],
   "source": [
    "predictions = model.predict(x=test_batches, verbose=0)"
   ]
  },
  {
   "cell_type": "code",
   "execution_count": 15,
   "metadata": {},
   "outputs": [],
   "source": [
    "cm = confusion_matrix(y_true=test_batches.classes,y_pred=np.argmax(predictions,axis=-1))"
   ]
  },
  {
   "cell_type": "code",
   "execution_count": 16,
   "metadata": {},
   "outputs": [],
   "source": [
    "wandb.log({\n",
    "            \"F1_score\" : calculateF1(cm),\n",
    "            \"confusion_matrix\" : wandb.sklearn.plot_confusion_matrix(test_batches.classes,\n",
    "                                                            np.argmax(predictions,axis=-1),\n",
    "                                                            cm_plot_labels)\n",
    "            })\n"
   ]
  },
  {
   "cell_type": "code",
   "execution_count": 17,
   "metadata": {},
   "outputs": [
    {
     "data": {
      "text/html": [
       "<br/>Waiting for W&B process to finish, PID 11120... <strong style=\"color:green\">(success).</strong>"
      ],
      "text/plain": [
       "<IPython.core.display.HTML object>"
      ]
     },
     "metadata": {},
     "output_type": "display_data"
    },
    {
     "data": {
      "text/html": [
       "<style>\n",
       "    table.wandb td:nth-child(1) { padding: 0 10px; text-align: right }\n",
       "    .wandb-row { display: flex; flex-direction: row; flex-wrap: wrap; width: 100% }\n",
       "    .wandb-col { display: flex; flex-direction: column; flex-basis: 100%; flex: 1; padding: 10px; }\n",
       "    </style>\n",
       "<div class=\"wandb-row\"><div class=\"wandb-col\">\n",
       "<h3>Run history:</h3><br/><table class=\"wandb\"><tr><td>F1_score</td><td>▁</td></tr><tr><td>accuracy</td><td>▁▄▅▆▆▆▆▇▇▇▇▇▇▇▇█████████████████████████</td></tr><tr><td>epoch</td><td>▁▁▁▂▂▂▂▂▂▃▃▃▃▃▄▄▄▄▄▄▅▅▅▅▅▅▆▆▆▆▆▇▇▇▇▇▇███</td></tr><tr><td>loss</td><td>█▅▄▃▃▃▃▂▂▂▂▂▂▂▂▂▂▁▁▁▁▁▁▁▁▁▁▁▁▁▁▁▁▁▁▁▁▁▁▁</td></tr><tr><td>val_accuracy</td><td>▁▄▅▅▇█▇▆▇▆█▆▇▆▇▆▇▇▇▆▇▆▆▇▇▆▆▆▇▇▇▇▇▆▇▇▇▇▇▇</td></tr><tr><td>val_loss</td><td>█▅▄▁▁▁▃▁▃▁▂▂▂▂▂▃▁▁▂▃▂▂▃▃▃▃▃▄▃▆▅▄▄▆▅▆▄▅▅▆</td></tr></table><br/></div><div class=\"wandb-col\">\n",
       "<h3>Run summary:</h3><br/><table class=\"wandb\"><tr><td>F1_score</td><td>0.83333</td></tr><tr><td>accuracy</td><td>0.99899</td></tr><tr><td>best_epoch</td><td>5</td></tr><tr><td>best_val_loss</td><td>0.42753</td></tr><tr><td>epoch</td><td>39</td></tr><tr><td>loss</td><td>0.0106</td></tr><tr><td>val_accuracy</td><td>0.85106</td></tr><tr><td>val_loss</td><td>0.60047</td></tr></table>\n",
       "</div></div>\n",
       "Synced 6 W&B file(s), 81 media file(s), 1 artifact file(s) and 1 other file(s)\n",
       "<br/>Synced <strong style=\"color:#cdcd00\">upbeat-sky-43</strong>: <a href=\"https://wandb.ai/ratkac99/vgg16/runs/1s9foivq\" target=\"_blank\">https://wandb.ai/ratkac99/vgg16/runs/1s9foivq</a><br/>\n",
       "Find logs at: <code>.\\wandb\\run-20211130_214644-1s9foivq\\logs</code><br/>\n"
      ],
      "text/plain": [
       "<IPython.core.display.HTML object>"
      ]
     },
     "metadata": {},
     "output_type": "display_data"
    }
   ],
   "source": [
    "wandb.finish()"
   ]
  }
 ],
 "metadata": {
  "interpreter": {
   "hash": "b3ba2566441a7c06988d0923437866b63cedc61552a5af99d1f4fb67d367b25f"
  },
  "kernelspec": {
   "display_name": "Python 3.8.8 64-bit ('base': conda)",
   "name": "python3"
  },
  "language_info": {
   "codemirror_mode": {
    "name": "ipython",
    "version": 3
   },
   "file_extension": ".py",
   "mimetype": "text/x-python",
   "name": "python",
   "nbconvert_exporter": "python",
   "pygments_lexer": "ipython3",
   "version": "3.8.12"
  },
  "orig_nbformat": 4
 },
 "nbformat": 4,
 "nbformat_minor": 2
}
