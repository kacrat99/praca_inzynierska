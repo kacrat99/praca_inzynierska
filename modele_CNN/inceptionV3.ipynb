{
 "cells": [
  {
   "cell_type": "code",
   "execution_count": 1,
   "metadata": {},
   "outputs": [],
   "source": [
    "import tensorflow as tf\n",
    "import numpy as np\n",
    "from tensorflow import keras\n",
    "from tensorflow.keras.models import Sequential\n",
    "from tensorflow.keras.layers import Activation, Dense, BatchNormalization, Conv2D,MaxPool2D,Flatten\n",
    "from tensorflow.keras.optimizers import Adam\n",
    "from tensorflow.keras.metrics import categorical_crossentropy\n",
    "from tensorflow.keras.preprocessing.image import ImageDataGenerator\n",
    "from sklearn.metrics import confusion_matrix\n",
    "from tensorflow.python.client import device_lib\n",
    "import itertools\n",
    "import os \n",
    "import shutil\n",
    "import random\n",
    "import glob\n",
    "import matplotlib.pyplot as plt\n",
    "import warnings\n",
    "from tensorflow.python.client import device_lib\n",
    "import sklearn\n",
    "import wandb\n",
    "from wandb.keras import WandbCallback\n",
    "import glob\n"
   ]
  },
  {
   "cell_type": "code",
   "execution_count": 2,
   "metadata": {},
   "outputs": [
    {
     "name": "stdout",
     "output_type": "stream",
     "text": [
      "True\n",
      "[PhysicalDevice(name='/physical_device:GPU:0', device_type='GPU')]\n"
     ]
    }
   ],
   "source": [
    "print(tf.test.is_built_with_cuda())\n",
    "print(tf.config.list_physical_devices('GPU')) "
   ]
  },
  {
   "cell_type": "code",
   "execution_count": 3,
   "metadata": {},
   "outputs": [
    {
     "name": "stderr",
     "output_type": "stream",
     "text": [
      "Failed to detect the name of this notebook, you can set it manually with the WANDB_NOTEBOOK_NAME environment variable to enable code saving.\n",
      "\u001b[34m\u001b[1mwandb\u001b[0m: Currently logged in as: \u001b[33mratkac99\u001b[0m (use `wandb login --relogin` to force relogin)\n"
     ]
    },
    {
     "data": {
      "text/plain": [
       "True"
      ]
     },
     "execution_count": 3,
     "metadata": {},
     "output_type": "execute_result"
    }
   ],
   "source": [
    "wandb.login()"
   ]
  },
  {
   "cell_type": "code",
   "execution_count": 4,
   "metadata": {},
   "outputs": [
    {
     "name": "stderr",
     "output_type": "stream",
     "text": [
      "C:\\Users\\Kacper\\.conda\\envs\\test\\lib\\site-packages\\IPython\\html.py:12: ShimWarning: The `IPython.html` package has been deprecated since IPython 4.0. You should import from `notebook` instead. `IPython.html.widgets` has moved to `ipywidgets`.\n",
      "  warn(\"The `IPython.html` package has been deprecated since IPython 4.0. \"\n"
     ]
    },
    {
     "data": {
      "text/html": [
       "\n",
       "                    Syncing run <strong><a href=\"https://wandb.ai/ratkac99/InceptionV3/runs/3ku3t28j\" target=\"_blank\">crimson-wildflower-1</a></strong> to <a href=\"https://wandb.ai/ratkac99/InceptionV3\" target=\"_blank\">Weights & Biases</a> (<a href=\"https://docs.wandb.com/integrations/jupyter.html\" target=\"_blank\">docs</a>).<br/>\n",
       "\n",
       "                "
      ],
      "text/plain": [
       "<IPython.core.display.HTML object>"
      ]
     },
     "metadata": {},
     "output_type": "display_data"
    }
   ],
   "source": [
    "wandb.init(project='InceptionV3', entity=\"ratkac99\",\n",
    "                 config={  # and include hyperparameters and metadata\n",
    "                     \"learning_rate\": 0.0001,\n",
    "                     \"epochs\": 40,\n",
    "                     \"batch_size\": 2,\n",
    "                     \"loss_function\": \"categorical_crossentropy\",\n",
    "                     \"architecture\": \"CNN\",\n",
    "                     \"dataset\": \"malwareDB\"\n",
    "                 })\n",
    "config = wandb.config"
   ]
  },
  {
   "cell_type": "code",
   "execution_count": 68,
   "metadata": {},
   "outputs": [],
   "source": [
    "train_path = 'C:/Users/Kacper/Desktop/inzynier/code/data/legit_vs_malware/train'\n",
    "valid_path = 'C:/Users/Kacper/Desktop/inzynier/code/data/legit_vs_malware/valid'\n",
    "test_path = 'C:/Users/Kacper/Desktop/inzynier/code/data/legit_vs_malware/test'\n",
    "\n",
    "#1153,4612"
   ]
  },
  {
   "cell_type": "code",
   "execution_count": 69,
   "metadata": {},
   "outputs": [
    {
     "name": "stdout",
     "output_type": "stream",
     "text": [
      "Found 994 images belonging to 5 classes.\n",
      "Found 141 images belonging to 5 classes.\n",
      "Found 151 images belonging to 5 classes.\n"
     ]
    }
   ],
   "source": [
    "train_batches = ImageDataGenerator(preprocessing_function=tf.keras.applications.mobilenet.preprocess_input).flow_from_directory(directory=train_path, target_size=(224,224),classes=['cerberus','hydra','alien','other','legit'],batch_size=2)\n",
    "valid_batches = ImageDataGenerator(preprocessing_function=tf.keras.applications.mobilenet.preprocess_input).flow_from_directory(directory=valid_path, target_size=(224,224),classes=['cerberus','hydra','alien','other','legit'],batch_size=2)\n",
    "test_batches = ImageDataGenerator(preprocessing_function=tf.keras.applications.mobilenet.preprocess_input).flow_from_directory(directory=test_path, target_size=(224,224),classes=['cerberus','hydra','alien','other','legit'],batch_size=2,shuffle=False)\n"
   ]
  },
  {
   "cell_type": "code",
   "execution_count": 70,
   "metadata": {},
   "outputs": [],
   "source": [
    "assert train_batches.n == 994\n",
    "assert valid_batches.n == 141\n",
    "assert test_batches.n == 151\n",
    "assert train_batches.num_classes == valid_batches.num_classes == test_batches.num_classes == 5"
   ]
  },
  {
   "cell_type": "code",
   "execution_count": 71,
   "metadata": {},
   "outputs": [],
   "source": [
    "cm_plot_labels = ['cerberus','hydra','alien','other','legit']"
   ]
  },
  {
   "cell_type": "code",
   "execution_count": 72,
   "metadata": {},
   "outputs": [],
   "source": [
    "def calculateF1(cm):\n",
    "    precision = 0\n",
    "    recall = 0\n",
    "    TP = cm[4][4]\n",
    "    FP = 0\n",
    "    FN = 0\n",
    "    TN = 0\n",
    "    for i in range(0,4):\n",
    "        FP = FP + cm[i][4]\n",
    "    for i in range (0,4):\n",
    "        FN = FN + cm[4][i]\n",
    "    for i in cm:\n",
    "        for j in i:\n",
    "            TN = TN + j\n",
    "    TN = TN - (FP + FN + TP)\n",
    "    precision = TP/(TP+FP)\n",
    "    recall = TP/(TP+FN)\n",
    "    return 2*((precision*recall)/(precision+recall))"
   ]
  },
  {
   "cell_type": "code",
   "execution_count": 73,
   "metadata": {},
   "outputs": [],
   "source": [
    "inceptionv3 = keras.applications."
   ]
  },
  {
   "cell_type": "code",
   "execution_count": 74,
   "metadata": {},
   "outputs": [],
   "source": [
    "model = Sequential()\n",
    "for layer in mobilenet.layers[:-1]:\n",
    "    model.add(layer)\n",
    "\n",
    "for layer in model.layers:\n",
    "    layer.trainable = False\n",
    "\n",
    "model.add(Dense(units=5, activation='softmax'))"
   ]
  },
  {
   "cell_type": "code",
   "execution_count": 75,
   "metadata": {},
   "outputs": [
    {
     "name": "stdout",
     "output_type": "stream",
     "text": [
      "Model: \"sequential_2\"\n",
      "_________________________________________________________________\n",
      " Layer (type)                Output Shape              Param #   \n",
      "=================================================================\n",
      " conv1 (Conv2D)              (None, 112, 112, 32)      864       \n",
      "                                                                 \n",
      " conv1_bn (BatchNormalizatio  (None, 112, 112, 32)     128       \n",
      " n)                                                              \n",
      "                                                                 \n",
      " conv1_relu (ReLU)           (None, 112, 112, 32)      0         \n",
      "                                                                 \n",
      " conv_dw_1 (DepthwiseConv2D)  (None, 112, 112, 32)     288       \n",
      "                                                                 \n",
      " conv_dw_1_bn (BatchNormaliz  (None, 112, 112, 32)     128       \n",
      " ation)                                                          \n",
      "                                                                 \n",
      " conv_dw_1_relu (ReLU)       (None, 112, 112, 32)      0         \n",
      "                                                                 \n",
      " conv_pw_1 (Conv2D)          (None, 112, 112, 64)      2048      \n",
      "                                                                 \n",
      " conv_pw_1_bn (BatchNormaliz  (None, 112, 112, 64)     256       \n",
      " ation)                                                          \n",
      "                                                                 \n",
      " conv_pw_1_relu (ReLU)       (None, 112, 112, 64)      0         \n",
      "                                                                 \n",
      " conv_pad_2 (ZeroPadding2D)  (None, 113, 113, 64)      0         \n",
      "                                                                 \n",
      " conv_dw_2 (DepthwiseConv2D)  (None, 56, 56, 64)       576       \n",
      "                                                                 \n",
      " conv_dw_2_bn (BatchNormaliz  (None, 56, 56, 64)       256       \n",
      " ation)                                                          \n",
      "                                                                 \n",
      " conv_dw_2_relu (ReLU)       (None, 56, 56, 64)        0         \n",
      "                                                                 \n",
      " conv_pw_2 (Conv2D)          (None, 56, 56, 128)       8192      \n",
      "                                                                 \n",
      " conv_pw_2_bn (BatchNormaliz  (None, 56, 56, 128)      512       \n",
      " ation)                                                          \n",
      "                                                                 \n",
      " conv_pw_2_relu (ReLU)       (None, 56, 56, 128)       0         \n",
      "                                                                 \n",
      " conv_dw_3 (DepthwiseConv2D)  (None, 56, 56, 128)      1152      \n",
      "                                                                 \n",
      " conv_dw_3_bn (BatchNormaliz  (None, 56, 56, 128)      512       \n",
      " ation)                                                          \n",
      "                                                                 \n",
      " conv_dw_3_relu (ReLU)       (None, 56, 56, 128)       0         \n",
      "                                                                 \n",
      " conv_pw_3 (Conv2D)          (None, 56, 56, 128)       16384     \n",
      "                                                                 \n",
      " conv_pw_3_bn (BatchNormaliz  (None, 56, 56, 128)      512       \n",
      " ation)                                                          \n",
      "                                                                 \n",
      " conv_pw_3_relu (ReLU)       (None, 56, 56, 128)       0         \n",
      "                                                                 \n",
      " conv_pad_4 (ZeroPadding2D)  (None, 57, 57, 128)       0         \n",
      "                                                                 \n",
      " conv_dw_4 (DepthwiseConv2D)  (None, 28, 28, 128)      1152      \n",
      "                                                                 \n",
      " conv_dw_4_bn (BatchNormaliz  (None, 28, 28, 128)      512       \n",
      " ation)                                                          \n",
      "                                                                 \n",
      " conv_dw_4_relu (ReLU)       (None, 28, 28, 128)       0         \n",
      "                                                                 \n",
      " conv_pw_4 (Conv2D)          (None, 28, 28, 256)       32768     \n",
      "                                                                 \n",
      " conv_pw_4_bn (BatchNormaliz  (None, 28, 28, 256)      1024      \n",
      " ation)                                                          \n",
      "                                                                 \n",
      " conv_pw_4_relu (ReLU)       (None, 28, 28, 256)       0         \n",
      "                                                                 \n",
      " conv_dw_5 (DepthwiseConv2D)  (None, 28, 28, 256)      2304      \n",
      "                                                                 \n",
      " conv_dw_5_bn (BatchNormaliz  (None, 28, 28, 256)      1024      \n",
      " ation)                                                          \n",
      "                                                                 \n",
      " conv_dw_5_relu (ReLU)       (None, 28, 28, 256)       0         \n",
      "                                                                 \n",
      " conv_pw_5 (Conv2D)          (None, 28, 28, 256)       65536     \n",
      "                                                                 \n",
      " conv_pw_5_bn (BatchNormaliz  (None, 28, 28, 256)      1024      \n",
      " ation)                                                          \n",
      "                                                                 \n",
      " conv_pw_5_relu (ReLU)       (None, 28, 28, 256)       0         \n",
      "                                                                 \n",
      " conv_pad_6 (ZeroPadding2D)  (None, 29, 29, 256)       0         \n",
      "                                                                 \n",
      " conv_dw_6 (DepthwiseConv2D)  (None, 14, 14, 256)      2304      \n",
      "                                                                 \n",
      " conv_dw_6_bn (BatchNormaliz  (None, 14, 14, 256)      1024      \n",
      " ation)                                                          \n",
      "                                                                 \n",
      " conv_dw_6_relu (ReLU)       (None, 14, 14, 256)       0         \n",
      "                                                                 \n",
      " conv_pw_6 (Conv2D)          (None, 14, 14, 512)       131072    \n",
      "                                                                 \n",
      " conv_pw_6_bn (BatchNormaliz  (None, 14, 14, 512)      2048      \n",
      " ation)                                                          \n",
      "                                                                 \n",
      " conv_pw_6_relu (ReLU)       (None, 14, 14, 512)       0         \n",
      "                                                                 \n",
      " conv_dw_7 (DepthwiseConv2D)  (None, 14, 14, 512)      4608      \n",
      "                                                                 \n",
      " conv_dw_7_bn (BatchNormaliz  (None, 14, 14, 512)      2048      \n",
      " ation)                                                          \n",
      "                                                                 \n",
      " conv_dw_7_relu (ReLU)       (None, 14, 14, 512)       0         \n",
      "                                                                 \n",
      " conv_pw_7 (Conv2D)          (None, 14, 14, 512)       262144    \n",
      "                                                                 \n",
      " conv_pw_7_bn (BatchNormaliz  (None, 14, 14, 512)      2048      \n",
      " ation)                                                          \n",
      "                                                                 \n",
      " conv_pw_7_relu (ReLU)       (None, 14, 14, 512)       0         \n",
      "                                                                 \n",
      " conv_dw_8 (DepthwiseConv2D)  (None, 14, 14, 512)      4608      \n",
      "                                                                 \n",
      " conv_dw_8_bn (BatchNormaliz  (None, 14, 14, 512)      2048      \n",
      " ation)                                                          \n",
      "                                                                 \n",
      " conv_dw_8_relu (ReLU)       (None, 14, 14, 512)       0         \n",
      "                                                                 \n",
      " conv_pw_8 (Conv2D)          (None, 14, 14, 512)       262144    \n",
      "                                                                 \n",
      " conv_pw_8_bn (BatchNormaliz  (None, 14, 14, 512)      2048      \n",
      " ation)                                                          \n",
      "                                                                 \n",
      " conv_pw_8_relu (ReLU)       (None, 14, 14, 512)       0         \n",
      "                                                                 \n",
      " conv_dw_9 (DepthwiseConv2D)  (None, 14, 14, 512)      4608      \n",
      "                                                                 \n",
      " conv_dw_9_bn (BatchNormaliz  (None, 14, 14, 512)      2048      \n",
      " ation)                                                          \n",
      "                                                                 \n",
      " conv_dw_9_relu (ReLU)       (None, 14, 14, 512)       0         \n",
      "                                                                 \n",
      " conv_pw_9 (Conv2D)          (None, 14, 14, 512)       262144    \n",
      "                                                                 \n",
      " conv_pw_9_bn (BatchNormaliz  (None, 14, 14, 512)      2048      \n",
      " ation)                                                          \n",
      "                                                                 \n",
      " conv_pw_9_relu (ReLU)       (None, 14, 14, 512)       0         \n",
      "                                                                 \n",
      " conv_dw_10 (DepthwiseConv2D  (None, 14, 14, 512)      4608      \n",
      " )                                                               \n",
      "                                                                 \n",
      " conv_dw_10_bn (BatchNormali  (None, 14, 14, 512)      2048      \n",
      " zation)                                                         \n",
      "                                                                 \n",
      " conv_dw_10_relu (ReLU)      (None, 14, 14, 512)       0         \n",
      "                                                                 \n",
      " conv_pw_10 (Conv2D)         (None, 14, 14, 512)       262144    \n",
      "                                                                 \n",
      " conv_pw_10_bn (BatchNormali  (None, 14, 14, 512)      2048      \n",
      " zation)                                                         \n",
      "                                                                 \n",
      " conv_pw_10_relu (ReLU)      (None, 14, 14, 512)       0         \n",
      "                                                                 \n",
      " conv_dw_11 (DepthwiseConv2D  (None, 14, 14, 512)      4608      \n",
      " )                                                               \n",
      "                                                                 \n",
      " conv_dw_11_bn (BatchNormali  (None, 14, 14, 512)      2048      \n",
      " zation)                                                         \n",
      "                                                                 \n",
      " conv_dw_11_relu (ReLU)      (None, 14, 14, 512)       0         \n",
      "                                                                 \n",
      " conv_pw_11 (Conv2D)         (None, 14, 14, 512)       262144    \n",
      "                                                                 \n",
      " conv_pw_11_bn (BatchNormali  (None, 14, 14, 512)      2048      \n",
      " zation)                                                         \n",
      "                                                                 \n",
      " conv_pw_11_relu (ReLU)      (None, 14, 14, 512)       0         \n",
      "                                                                 \n",
      " conv_pad_12 (ZeroPadding2D)  (None, 15, 15, 512)      0         \n",
      "                                                                 \n",
      " conv_dw_12 (DepthwiseConv2D  (None, 7, 7, 512)        4608      \n",
      " )                                                               \n",
      "                                                                 \n",
      " conv_dw_12_bn (BatchNormali  (None, 7, 7, 512)        2048      \n",
      " zation)                                                         \n",
      "                                                                 \n",
      " conv_dw_12_relu (ReLU)      (None, 7, 7, 512)         0         \n",
      "                                                                 \n",
      " conv_pw_12 (Conv2D)         (None, 7, 7, 1024)        524288    \n",
      "                                                                 \n",
      " conv_pw_12_bn (BatchNormali  (None, 7, 7, 1024)       4096      \n",
      " zation)                                                         \n",
      "                                                                 \n",
      " conv_pw_12_relu (ReLU)      (None, 7, 7, 1024)        0         \n",
      "                                                                 \n",
      " conv_dw_13 (DepthwiseConv2D  (None, 7, 7, 1024)       9216      \n",
      " )                                                               \n",
      "                                                                 \n",
      " conv_dw_13_bn (BatchNormali  (None, 7, 7, 1024)       4096      \n",
      " zation)                                                         \n",
      "                                                                 \n",
      " conv_dw_13_relu (ReLU)      (None, 7, 7, 1024)        0         \n",
      "                                                                 \n",
      " conv_pw_13 (Conv2D)         (None, 7, 7, 1024)        1048576   \n",
      "                                                                 \n",
      " conv_pw_13_bn (BatchNormali  (None, 7, 7, 1024)       4096      \n",
      " zation)                                                         \n",
      "                                                                 \n",
      " conv_pw_13_relu (ReLU)      (None, 7, 7, 1024)        0         \n",
      "                                                                 \n",
      " global_average_pooling2d_6   (None, 1, 1, 1024)       0         \n",
      " (GlobalAveragePooling2D)                                        \n",
      "                                                                 \n",
      " dropout (Dropout)           (None, 1, 1, 1024)        0         \n",
      "                                                                 \n",
      " conv_preds (Conv2D)         (None, 1, 1, 1000)        1025000   \n",
      "                                                                 \n",
      " reshape_2 (Reshape)         (None, 1000)              0         \n",
      "                                                                 \n",
      " dense_1 (Dense)             (None, 5)                 5005      \n",
      "                                                                 \n",
      "=================================================================\n",
      "Total params: 4,258,869\n",
      "Trainable params: 5,005\n",
      "Non-trainable params: 4,253,864\n",
      "_________________________________________________________________\n"
     ]
    }
   ],
   "source": [
    "model.summary()"
   ]
  },
  {
   "cell_type": "code",
   "execution_count": 76,
   "metadata": {},
   "outputs": [],
   "source": [
    "model.compile(optimizer=tf.keras.optimizers.Adam(learning_rate=0.0001),loss='categorical_crossentropy',metrics=\"accuracy\")"
   ]
  },
  {
   "cell_type": "code",
   "execution_count": 77,
   "metadata": {},
   "outputs": [
    {
     "name": "stdout",
     "output_type": "stream",
     "text": [
      "Epoch 1/40\n",
      "497/497 - 13s - loss: 1.0746 - accuracy: 0.6449 - val_loss: 0.9298 - val_accuracy: 0.6950 - 13s/epoch - 27ms/step\n",
      "Epoch 2/40\n",
      "497/497 - 12s - loss: 0.5928 - accuracy: 0.8058 - val_loss: 0.7198 - val_accuracy: 0.7376 - 12s/epoch - 24ms/step\n",
      "Epoch 3/40\n",
      "497/497 - 12s - loss: 0.4828 - accuracy: 0.8380 - val_loss: 0.6399 - val_accuracy: 0.7730 - 12s/epoch - 24ms/step\n",
      "Epoch 4/40\n",
      "497/497 - 12s - loss: 0.4307 - accuracy: 0.8602 - val_loss: 0.6321 - val_accuracy: 0.7589 - 12s/epoch - 23ms/step\n",
      "Epoch 5/40\n",
      "497/497 - 12s - loss: 0.3861 - accuracy: 0.8712 - val_loss: 0.6159 - val_accuracy: 0.7730 - 12s/epoch - 24ms/step\n",
      "Epoch 6/40\n",
      "497/497 - 12s - loss: 0.3541 - accuracy: 0.8753 - val_loss: 0.5188 - val_accuracy: 0.7801 - 12s/epoch - 24ms/step\n",
      "Epoch 7/40\n",
      "497/497 - 12s - loss: 0.3367 - accuracy: 0.8893 - val_loss: 0.4856 - val_accuracy: 0.7801 - 12s/epoch - 24ms/step\n",
      "Epoch 8/40\n",
      "497/497 - 12s - loss: 0.3133 - accuracy: 0.8944 - val_loss: 0.4983 - val_accuracy: 0.7872 - 12s/epoch - 23ms/step\n",
      "Epoch 9/40\n",
      "497/497 - 11s - loss: 0.2930 - accuracy: 0.8994 - val_loss: 0.5581 - val_accuracy: 0.7943 - 11s/epoch - 23ms/step\n",
      "Epoch 10/40\n",
      "497/497 - 12s - loss: 0.2813 - accuracy: 0.9044 - val_loss: 0.4566 - val_accuracy: 0.8014 - 12s/epoch - 23ms/step\n",
      "Epoch 11/40\n",
      "497/497 - 12s - loss: 0.2650 - accuracy: 0.9044 - val_loss: 0.4504 - val_accuracy: 0.8085 - 12s/epoch - 23ms/step\n",
      "Epoch 12/40\n",
      "497/497 - 12s - loss: 0.2489 - accuracy: 0.9195 - val_loss: 0.4799 - val_accuracy: 0.8156 - 12s/epoch - 23ms/step\n",
      "Epoch 13/40\n",
      "497/497 - 12s - loss: 0.2396 - accuracy: 0.9195 - val_loss: 0.4830 - val_accuracy: 0.8014 - 12s/epoch - 24ms/step\n",
      "Epoch 14/40\n",
      "497/497 - 12s - loss: 0.2344 - accuracy: 0.9135 - val_loss: 0.4631 - val_accuracy: 0.8156 - 12s/epoch - 24ms/step\n",
      "Epoch 15/40\n",
      "497/497 - 12s - loss: 0.2225 - accuracy: 0.9145 - val_loss: 0.4500 - val_accuracy: 0.8298 - 12s/epoch - 24ms/step\n",
      "Epoch 16/40\n",
      "497/497 - 12s - loss: 0.2111 - accuracy: 0.9306 - val_loss: 0.4552 - val_accuracy: 0.8085 - 12s/epoch - 24ms/step\n",
      "Epoch 17/40\n",
      "497/497 - 12s - loss: 0.2027 - accuracy: 0.9326 - val_loss: 0.5199 - val_accuracy: 0.8156 - 12s/epoch - 24ms/step\n",
      "Epoch 18/40\n",
      "497/497 - 12s - loss: 0.2019 - accuracy: 0.9336 - val_loss: 0.4514 - val_accuracy: 0.8156 - 12s/epoch - 24ms/step\n",
      "Epoch 19/40\n",
      "497/497 - 12s - loss: 0.1889 - accuracy: 0.9356 - val_loss: 0.4189 - val_accuracy: 0.8511 - 12s/epoch - 24ms/step\n",
      "Epoch 20/40\n",
      "497/497 - 12s - loss: 0.1821 - accuracy: 0.9396 - val_loss: 0.4721 - val_accuracy: 0.8298 - 12s/epoch - 23ms/step\n",
      "Epoch 21/40\n",
      "497/497 - 12s - loss: 0.1798 - accuracy: 0.9416 - val_loss: 0.4300 - val_accuracy: 0.8369 - 12s/epoch - 23ms/step\n",
      "Epoch 22/40\n",
      "497/497 - 12s - loss: 0.1719 - accuracy: 0.9467 - val_loss: 0.5007 - val_accuracy: 0.8440 - 12s/epoch - 23ms/step\n",
      "Epoch 23/40\n",
      "497/497 - 12s - loss: 0.1698 - accuracy: 0.9356 - val_loss: 0.4431 - val_accuracy: 0.8298 - 12s/epoch - 24ms/step\n",
      "Epoch 24/40\n",
      "497/497 - 12s - loss: 0.1501 - accuracy: 0.9567 - val_loss: 0.4408 - val_accuracy: 0.8369 - 12s/epoch - 24ms/step\n",
      "Epoch 25/40\n",
      "497/497 - 12s - loss: 0.1518 - accuracy: 0.9567 - val_loss: 0.4257 - val_accuracy: 0.8369 - 12s/epoch - 23ms/step\n",
      "Epoch 26/40\n",
      "497/497 - 12s - loss: 0.1470 - accuracy: 0.9567 - val_loss: 0.4570 - val_accuracy: 0.8227 - 12s/epoch - 23ms/step\n",
      "Epoch 27/40\n",
      "497/497 - 12s - loss: 0.1419 - accuracy: 0.9557 - val_loss: 0.4355 - val_accuracy: 0.8440 - 12s/epoch - 23ms/step\n",
      "Epoch 28/40\n",
      "497/497 - 12s - loss: 0.1423 - accuracy: 0.9557 - val_loss: 0.4285 - val_accuracy: 0.8298 - 12s/epoch - 23ms/step\n",
      "Epoch 29/40\n",
      "497/497 - 12s - loss: 0.1332 - accuracy: 0.9618 - val_loss: 0.4379 - val_accuracy: 0.8511 - 12s/epoch - 23ms/step\n",
      "Epoch 30/40\n",
      "497/497 - 12s - loss: 0.1256 - accuracy: 0.9668 - val_loss: 0.4348 - val_accuracy: 0.8511 - 12s/epoch - 24ms/step\n",
      "Epoch 31/40\n",
      "497/497 - 12s - loss: 0.1241 - accuracy: 0.9628 - val_loss: 0.4701 - val_accuracy: 0.8369 - 12s/epoch - 24ms/step\n",
      "Epoch 32/40\n",
      "497/497 - 12s - loss: 0.1215 - accuracy: 0.9678 - val_loss: 0.4288 - val_accuracy: 0.8440 - 12s/epoch - 23ms/step\n",
      "Epoch 33/40\n",
      "497/497 - 12s - loss: 0.1161 - accuracy: 0.9628 - val_loss: 0.4392 - val_accuracy: 0.8582 - 12s/epoch - 24ms/step\n",
      "Epoch 34/40\n",
      "497/497 - 11s - loss: 0.1120 - accuracy: 0.9728 - val_loss: 0.4994 - val_accuracy: 0.8440 - 11s/epoch - 23ms/step\n",
      "Epoch 35/40\n",
      "497/497 - 11s - loss: 0.1125 - accuracy: 0.9628 - val_loss: 0.4783 - val_accuracy: 0.8440 - 11s/epoch - 23ms/step\n",
      "Epoch 36/40\n",
      "497/497 - 11s - loss: 0.1051 - accuracy: 0.9748 - val_loss: 0.4433 - val_accuracy: 0.8369 - 11s/epoch - 23ms/step\n",
      "Epoch 37/40\n",
      "497/497 - 12s - loss: 0.1055 - accuracy: 0.9698 - val_loss: 0.4619 - val_accuracy: 0.8085 - 12s/epoch - 23ms/step\n",
      "Epoch 38/40\n",
      "497/497 - 12s - loss: 0.0962 - accuracy: 0.9728 - val_loss: 0.4644 - val_accuracy: 0.8227 - 12s/epoch - 23ms/step\n",
      "Epoch 39/40\n",
      "497/497 - 12s - loss: 0.0969 - accuracy: 0.9708 - val_loss: 0.4673 - val_accuracy: 0.8369 - 12s/epoch - 24ms/step\n",
      "Epoch 40/40\n",
      "497/497 - 12s - loss: 0.0930 - accuracy: 0.9779 - val_loss: 0.4725 - val_accuracy: 0.8298 - 12s/epoch - 23ms/step\n"
     ]
    },
    {
     "data": {
      "text/plain": [
       "<keras.callbacks.History at 0x2bd92ec0b20>"
      ]
     },
     "execution_count": 77,
     "metadata": {},
     "output_type": "execute_result"
    }
   ],
   "source": [
    "model.fit(x=train_batches,validation_data=valid_batches,epochs=40,verbose=2,callbacks=[WandbCallback(data_type=\"image\", validation_data=valid_batches, labels=cm_plot_labels)])"
   ]
  },
  {
   "cell_type": "code",
   "execution_count": 78,
   "metadata": {},
   "outputs": [],
   "source": [
    "predictions = model.predict(x=test_batches, verbose=0)"
   ]
  },
  {
   "cell_type": "code",
   "execution_count": 79,
   "metadata": {},
   "outputs": [],
   "source": [
    "cm = confusion_matrix(y_true=test_batches.classes,y_pred=np.argmax(predictions,axis=-1))"
   ]
  },
  {
   "cell_type": "code",
   "execution_count": 80,
   "metadata": {},
   "outputs": [],
   "source": [
    "wandb.log({\n",
    "            \"F1_score\" : calculateF1(cm),\n",
    "            \"confusion_matrix\" : wandb.sklearn.plot_confusion_matrix(test_batches.classes,\n",
    "                                                            np.argmax(predictions,axis=-1),\n",
    "                                                            cm_plot_labels)\n",
    "            })"
   ]
  },
  {
   "cell_type": "code",
   "execution_count": 59,
   "metadata": {},
   "outputs": [
    {
     "data": {
      "text/html": [
       "<br/>Waiting for W&B process to finish, PID 15940... <strong style=\"color:green\">(success).</strong>"
      ],
      "text/plain": [
       "<IPython.core.display.HTML object>"
      ]
     },
     "metadata": {},
     "output_type": "display_data"
    },
    {
     "data": {
      "text/html": [
       "<style>\n",
       "    table.wandb td:nth-child(1) { padding: 0 10px; text-align: right }\n",
       "    .wandb-row { display: flex; flex-direction: row; flex-wrap: wrap; width: 100% }\n",
       "    .wandb-col { display: flex; flex-direction: column; flex-basis: 100%; flex: 1; padding: 10px; }\n",
       "    </style>\n",
       "<div class=\"wandb-row\"><div class=\"wandb-col\">\n",
       "<h3>Run history:</h3><br/><table class=\"wandb\"><tr><td>F1_score</td><td>▁</td></tr><tr><td>accuracy</td><td>▁▂▂▃▃▄▃▄▄▄▅▅▅▅▆▆▆▆▆▆▆▇▇▇▇▇▇▇▇▇▇▇████████</td></tr><tr><td>epoch</td><td>▁▁▁▂▂▂▂▂▂▃▃▃▃▃▄▄▄▄▄▄▅▅▅▅▅▅▆▆▆▆▆▇▇▇▇▇▇███</td></tr><tr><td>loss</td><td>█▇▇▆▆▆▆▅▅▅▅▅▄▄▄▄▃▃▃▃▃▂▂▂▂▂▂▂▂▂▂▂▁▁▁▁▁▁▁▂</td></tr><tr><td>val_accuracy</td><td>▄▅▄▂▃▅▃▁▅▃▅▅▅▆▇▃▇▄▄▄▃▅▃▆▆▇▅▇▆▇▄▆▆▇▇▇▇█▇▆</td></tr><tr><td>val_loss</td><td>▃▂▂▅▅▂▃█▂▄▂▂▂▂▂▃▂▃▃▃▆▂▄▃▂▂▆▂▂▁▄▃▂▂▂▂▂▁▂▂</td></tr></table><br/></div><div class=\"wandb-col\">\n",
       "<h3>Run summary:</h3><br/><table class=\"wandb\"><tr><td>F1_score</td><td>0.57658</td></tr><tr><td>accuracy</td><td>0.93964</td></tr><tr><td>best_epoch</td><td>37</td></tr><tr><td>best_val_loss</td><td>0.76273</td></tr><tr><td>epoch</td><td>39</td></tr><tr><td>loss</td><td>0.2002</td></tr><tr><td>val_accuracy</td><td>0.60284</td></tr><tr><td>val_loss</td><td>1.56513</td></tr></table>\n",
       "</div></div>\n",
       "Synced 6 W&B file(s), 81 media file(s), 1 artifact file(s) and 1 other file(s)\n",
       "<br/>Synced <strong style=\"color:#cdcd00\">absurd-river-2</strong>: <a href=\"https://wandb.ai/ratkac99/mobilenet/runs/36gfk01f\" target=\"_blank\">https://wandb.ai/ratkac99/mobilenet/runs/36gfk01f</a><br/>\n",
       "Find logs at: <code>.\\wandb\\run-20211130_210520-36gfk01f\\logs</code><br/>\n"
      ],
      "text/plain": [
       "<IPython.core.display.HTML object>"
      ]
     },
     "metadata": {},
     "output_type": "display_data"
    }
   ],
   "source": [
    "wandb.finish()"
   ]
  }
 ],
 "metadata": {
  "interpreter": {
   "hash": "b3ba2566441a7c06988d0923437866b63cedc61552a5af99d1f4fb67d367b25f"
  },
  "kernelspec": {
   "display_name": "Python 3.8.8 64-bit ('base': conda)",
   "name": "python3"
  },
  "language_info": {
   "codemirror_mode": {
    "name": "ipython",
    "version": 3
   },
   "file_extension": ".py",
   "mimetype": "text/x-python",
   "name": "python",
   "nbconvert_exporter": "python",
   "pygments_lexer": "ipython3",
   "version": "3.8.12"
  },
  "orig_nbformat": 4
 },
 "nbformat": 4,
 "nbformat_minor": 2
}
